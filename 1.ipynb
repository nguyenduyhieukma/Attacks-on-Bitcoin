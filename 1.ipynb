{
 "cells": [
  {
   "cell_type": "markdown",
   "metadata": {},
   "source": [
    "# 1 Tấn công 51%"
   ]
  },
  {
   "cell_type": "markdown",
   "metadata": {},
   "source": [
    "## 1.1 Khái niệm\n",
    "\n",
    "Đối với Bitcoin, tẫn công 51% là kĩ thuật tấn công mà kẻ tấn công sở hữu hơn một nửa tổng sức mạnh tính toán trên toàn hệ thống (lý do cho tên gọi 51%), từ đó có toàn quyền thao túng lên cây khối. 51% chưa hẳn là một kĩ thuật tấn công hoàn chỉnh, nhưng nó là tiền đề để kẻ tấn công thực hiện các \"đòn đánh\" khác nếu muốn, cụ thể ta sẽ tìm hiểu trong [_Mục 1.2_](#1.2-Mục-đích-tấn-công).\n",
    "\n",
    "Chẳng hạn vào tháng 6/2014, tổng sức mạnh tính toán, thể hiện qua tốc độ băm hay số lần băm trên giây (H/s), của toàn hệ thống rơi vào khoảng $10^{17}$ H/s, trong đó thành viên GHash.IO sở hữu tốc độ băm lớn hơn $5 \\cdot 10^{16}$ H/s, tức là nhiều hơn một nửa ([_Hình 1_](#hinh_1)). Tuy nhiên, vì một số nguyên nhân ta sẽ cùng tìm hiểu \n",
    "trong [_Mục 1.4_](#1.4-\"Sức-đề-kháng\"-của-Bitcoin), GHash.IO đã không thực hiện bất cứ hành vi nào gây nguy hại cho hệ thống cũng như chủ động ngừng phát triển sức mạnh của mình.\n",
    "\n",
    "|<img id='hinh_1' src='resource/hash-power-distribution-6-2014.png'>|\n",
    "|:--|\n",
    "|_Hình 1: Sức mạnh tính toán từ các thành viên của chuỗi khối Bitcoin vào tháng 6/2014 [[nguồn](https://www.blockchain.com/en/pools)]._|"
   ]
  },
  {
   "cell_type": "markdown",
   "metadata": {},
   "source": [
    "## 1.2 Mục đích tấn công\n",
    "\n",
    "Dưới góc nhìn kĩ thuật, sỡ hữu 51% sức mạnh giúp kẻ tấn công có thể mở rộng một nhánh phụ bất kì, và sớm hay muộn gì thì nhánh phụ này cũng sẽ trở thành nhánh dài nhất mà thôi (minh họa qua chuỗi hình [2](#hinh_2), [3](#hinh_3), [4](#hinh_4)).\n",
    "\n",
    "|<img id='hinh_2' src='resource/51-1.png' style='float:left;'>|\n",
    "|:--|\n",
    "|_Hình 2: Tấn công 51% - trạng thái cây khối hiện tại._|\n",
    "|<img id='hinh_3' src='resource/51-2.png' style='float:left;'>|\n",
    "|_Hình 3: Tấn công 51% - kẻ tấn công không chọn mở rộng nhánh chính._|\n",
    "|<img id='hinh_4' src='resource/51-3.png' style='float:left;'>|\n",
    "|_Hình 4: Tấn công 51% - nhánh được kẻ tấn công chọn mở rộng trở thành nhánh dài nhất, thay thế nhánh chính trước đó._|\n",
    "\n",
    "Với khả năng đó, kẻ tấn công có thể:\n",
    "-   _Đóng băng tài khoản một thành viên nào đó:_ bằng cách từ chối mở rộng nhánh có khối chứa giao dịch liên quan đến thành viên đó.\n",
    "-   _Tước quyền công bố khối của một thành viên nào đó:_ bằng cách từ chối mở rộng nhánh có khối công bố bởi thành viên đó.\n",
    "-   _Đóng băng toàn bộ hệ thống:_ bằng cách mở rộng một nhánh chỉ gồm toàn khối rỗng (khối không có giao dịch).\n",
    "-   _Hủy bỏ giao dịch đã thực hiện:_ những giao dịch nằm trong các khối thuộc nhánh chính bị thay thế trở nên vô hiệu. Điều này giúp kẻ tấn công có thể tiêu một đồng tiền nhiều lần."
   ]
  },
  {
   "cell_type": "markdown",
   "metadata": {},
   "source": [
    "## 1.3 Tính khả thi\n",
    "\n",
    "Sau đây là những khả năng, giả thiết có thể xảy ra khiến cho hơn 50% sức mạnh trên toàn mạng Bitcoin bị kiểm soát bởi một thế lực nào đó:\n",
    "-   Các thành viên nhỏ có xu hướng tập hợp lại thành nhóm lớn, san sẻ rủi ro và lợi nhuận với nhau. GHash.IO vào thời điểm tháng 6/2014 chính là ví dụ tiêu biểu cho trường hợp này.\n",
    "-   Giả sử có 2 hoặc 3 thành viên nếu kết hợp lại sẽ sở hữu hơn 50% sức mạnh và những thành viên này thỏa hiệp với nhau hoặc bị mua chuộc.\n",
    "-   Khi tiền thưởng công bố khối giảm dần về 0, nhiều thành viên không còn cảm thấy giải câu đố băm là một việc sinh lời nữa nên ngừng hoạt động. Lúc này, tổng sức mạnh tính toán trên toàn hệ thống giảm và kẻ tấn công có thể dễ dàng đầu tư để chiếm lĩnh nhiều % sức mạnh hơn.\n",
    "-   Khi một loại phần cứng hay phần mềm dùng vận hành nút mạng trở nên quá phổ biến, nhà sản xuất có thể đặt cửa hậu để chiếm quyền điều khiển chúng khi cần thiết, từ đó sở hữu hơn 50% sức mạnh trên toàn hệ thống.\n",
    "-   Khi nhiều thành viên cùng có máy móc, thiết bị đặt tại một quốc gia hay vùng lãnh thổ thì chính quyền ở đó có thể ép những máy móc, thiết bị này vận hành theo ý muốn của mình, từ đó sở hữu hơn 50% sức mạnh trên toàn hệ thống."
   ]
  },
  {
   "cell_type": "markdown",
   "metadata": {},
   "source": [
    "## 1.4 \"Sức đề kháng\" của Bitcoin\n",
    "\n",
    "Cho dù luôn phải đối mặt với nguy cơ tấn công 51% nhưng lịch sử Bitcoin chưa hề ghi nhận một thiệt hại nào đến từ kĩ thuật tấn công này. Nguyên nhân được cho là bởi:\n",
    "-   Tổng sức mạnh tính toán trên toàn mạng Bitcoin có thể xem là khổng lồ (tầm $50 \\cdot 10^{18}$ H/s ở thời điểm hiện tại).\n",
    "-   Hàm băm SHA-256d chủ yếu được thực hiện bởi những con IC chuyên dụng có sức mạnh vượt trội. Tuy nhiên, nếu không để thực hiện hàm băm SHA-256d, chúng chỉ còn là \"sắt vụn\". Điều này dẫn đến việc kẻ tấn công không thể thuê hay thanh lý những linh kiện chuyên dụng này.\n",
    "-   Bitcoin là đồng tiền mật mã phổ biến có giá trị cao. Một tấn công nhỏ lên Bitcoin cũng có thể khiến người dùng mất niềm tin, dẫn đến giá trị đồng tiền bị sụt giảm nghiêm trọng.\n",
    "\n",
    "Do đó, khi sở hữu một lượng lớn sức mạnh trên toàn mạng Bitcoin, người ta thường có xu hướng hành xử một cách trung thực để sinh lời (thông qua tiền thưởng công bố khối và phí ghép giao dịch), thay vì triển khai một cuộc tấn công với chi phí đắt đỏ. Tuy nhiên, điều này chỉ đúng với thời điểm hiện tại. Trong tương lai, khi tiền thưởng công bố khối giảm dần về 0, không có gì đảm bảo một cuộc tấn công như vậy sẽ không xảy ra."
   ]
  },
  {
   "cell_type": "markdown",
   "metadata": {},
   "source": [
    "## 1.5 Tấn công 51% lên những chuỗi khối khác\n",
    "\n",
    "Tấn công 51% có thể nói là kiểu tấn công điển hình nhất của tất cả chuỗi khối chứ không riêng gì Bitcoin. Với một chuỗi khối bất kì, việc một thế lực nào đó sở hữu hơn 50% quyền viết lên cây khối sẽ đặt hệ thống vào tình trạng báo động.\n",
    "\n",
    "Sau đây, chúng ta cùng điểm qua hai (trong số rất nhiều) cuộc tấn công 51% đã xảy ra trong quá khứ:\n",
    "-   _Ví dụ về đóng băng hệ thống (Coiledcoin, 1/2012) [[nguồn](https://bitcointalk.org/index.php?topic=56675.0)]_: Coiledcoin là Bitcoin được chỉnh sửa đôi chút trong thiết kế và mã nguồn. Lúc triển khai (thời điểm 1/2012), Coiledcoin áp dụng kĩ thuật công bố kết hợp, cho phép những thành viên hiện tại của Bitcoin có thể đồng thời công bố khối trên Coiledcoin mà không phải phân chia tài nguyên tính toán cho 2 chuỗi khối khác nhau. Thời điểm đó, tổng sức mạnh tính toán của Coiledcoin còn nhỏ và nó dễ dàng bị một nhóm thành viên của Bitcoin có tên là Eligius áp dụng kĩ thuật tấn công 51% để đóng băng toàn hệ thống trong vài ngày. Kết quả là Coiledcoin bị người dùng từ bỏ. Lý giải cho hành động tấn công trên, người điều hành Eligius cho rằng Coiledcoin là \"một sự lừa đảo và nguy hại cho hệ sinh thái chuỗi khối\".\n",
    "-   _Ví dụ về hủy bỏ giao dịch đã thực hiện (Bitcoin Gold, 5/2018) [[nguồn](https://forum.bitcoingold.org/t/double-spend-attacks-on-exchanges/1362/2)]_: Bitcoin Gold là một nhánh của Bitcoin, tách ra từ khối có độ cao 491407. Bitcoin Gold cho rằng, loại hình công việc hiện tại (giải câu đố băm với thuật toán hàm băm SHA-256d) khiến quyền viết lên cây khối Bitcoin tập trung vào tay những ông lớn trong lĩnh vực sản xuất chip. Nhằm tạo ra một môi trường cạnh tranh công bằng, Bitcoin Gold áp dụng Equihash, một loại hình công việc khác đòi hỏi nhiều dung lượng nhớ để thực hiện, khiến việc chế tạo những con chip chuyên dụng trở nên khó khăn hơn. Thời điểm tháng 5/2018, kẻ tấn công (chưa rõ danh tính) đã thực hiện gửi một số lượng lớn tiền Bitcoin Gold (tương đương 18 triệu đô-la) tới nhiều sàn giao dịch trực tuyến để đổi sang Bitcoin cùng nhiều loại tiền ảo khác. Sau khi đổi tiền thành công, hắn thuê tài nguyên từ các dịch vụ điện toán đám mây, cùng với sức mạnh hiện có tạo nên một thế lực áp đảo, cho phép hủy bỏ những giao dịch gửi tiền đã thực hiện trước đó. Cuộc tấn công diễn ra trong vòng 3-4 ngày cho đến khi nhánh chính bị thay thế thành công, gây thiệt hại nặng nề cho nhiều sàn giao dịch.\n",
    "\n",
    "Đặc điểm chung của hầu hết những chuỗi khối bị tấn công 51% có thể kể đến là:\n",
    "-   Tổng sức mạnh tính toán của hệ thống chưa cao.\n",
    "-   Tài nguyên tính toán có thể được thuê dễ dàng.\n",
    "-   Uy tín của chuỗi khối chưa cao, lợi ích từ việc hành xử trung thực chưa đủ hấp dẫn kẻ tấn công.\n",
    "\n",
    "Và những đặc điểm đó hoàn toàn trái ngược với những gì Bitcoin đang sở hữu."
   ]
  }
 ],
 "metadata": {
  "kernelspec": {
   "display_name": "Python 2",
   "language": "python",
   "name": "python2"
  },
  "language_info": {
   "codemirror_mode": {
    "name": "ipython",
    "version": 2
   },
   "file_extension": ".py",
   "mimetype": "text/x-python",
   "name": "python",
   "nbconvert_exporter": "python",
   "pygments_lexer": "ipython2",
   "version": "2.7.16"
  }
 },
 "nbformat": 4,
 "nbformat_minor": 2
}
