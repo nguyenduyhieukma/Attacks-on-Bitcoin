{
 "cells": [
  {
   "cell_type": "markdown",
   "metadata": {},
   "source": [
    "# 3 Tấn công DoS"
   ]
  },
  {
   "cell_type": "markdown",
   "metadata": {},
   "source": [
    "## 3.1 Khái niệm\n",
    "\n",
    "Tấn công từ chối dịch vụ hay DoS (Denial of Service) là một trong những tấn công phổ biến nhất đối với mọi hệ thống thông tin, không riêng gì chuỗi khối hay Bitcoin. Mục tiêu của kẻ tấn công DoS là làm cho hệ thống bị tê liệt, dẫn đến những dịch vụ mà hệ thống cung cấp bị ngừng trệ, qua đó gây gián đoạn công việc cho những ai đang sử dụng dịch vụ từ hệ thống."
   ]
  },
  {
   "cell_type": "markdown",
   "metadata": {},
   "source": [
    "## 3.2 Hướng tấn công tổng quát\n",
    "\n",
    "Một số đặc điểm cần lưu ý nếu như ai đó muốn triển khai tấn công DoS lên Bitcoin:\n",
    "-   Nếu chỉ một hay vài nút mạng Bitcoin bị \"tắt điện\" thì điều đó cũng không gây ảnh hưởng gì nhiều đến hoạt động chung của toàn hệ thống.\n",
    "-   Công việc mà một nút mạng thực hiện (kiểm tra tính hợp lệ của một giao dịch, lưu trữ dữ liệu của một khối, ...) gần như sẽ được lặp lại trên tất cả các nút mạng.\n",
    "-   Ngoại trừ giải câu đố băm, công việc \"nặng nhọc\" nhất mà một nút mạng phải thực hiện là kiểm tra tính hợp lệ của chữ ký số trên các giao dịch, vì nó đòi hỏi thực hiện nhiều phép toán số học trên các số nguyên lớn (cỡ $2^{256}$).\n",
    "\n",
    "Từ những đặc điểm này, một số hướng tấn công DoS tổng quát lên Bitcoin kèm biện pháp khắc phục được đưa ra trong [_Bảng 1_](#bang_1). \n",
    "\n",
    "<a id='bang_1'></a>_Bảng 1: Một số hướng tấn công DoS tổng quát lên Bitcoin cùng biện pháp khắc phục_\n",
    "\n",
    "|Hướng tấn công|Biện pháp khắc phục|\n",
    "|:--|:--|\n",
    "|Tạo một giao dịch hợp lệ có kích thước khổng lồ gồm rất nhiều chữ kí cần phải kiểm tra.|Giới hạn kích thước giao dịch và số chữ ký trên mỗi giao dịch.|\n",
    "|Tạo một khối hợp lệ có kích thước khổng lồ gồm rất nhiều giao dịch.|Giới hạn kích thước khối và tổng số chữ ký cần phải kiểm tra trong mỗi khối.|\n",
    "|Tạo và quảng bá một số lượng lớn giao dịch rác (nhưng vẫn hợp lệ) trong thời gian ngắn.|Việc giới hạn tần suất quảng bá cho những giao dịch không đóng phí.|\n",
    "\n",
    "Bên cạnh những biện pháp này, để tự bảo vệ mình, nút cần ngắt kết nối ngay và đưa vào danh sách đen những ai có các hành vi \"bất thường\", cho dù những hành vi này không vi phạm luật đồng thuận. Thời gian lưu trên danh sách có thể là 12-24 giờ."
   ]
  },
  {
   "cell_type": "markdown",
   "metadata": {},
   "source": [
    "## 3.3 Tấn công vào Bitcoin Core\n",
    "\n",
    "Một hướng đi khác để triển khai tấn công DoS là khai thác các lỗ hổng của Bitcoin Core, phần mềm được hơn 95% các nút mạng Bitcoin sử dụng hiện nay do chính Satoshi Nakamoto \"đặt bút\" viết những dòng code đầu tiên. Trang mạng www.cvedetails.com ghi nhận tổng cộng 25 lỗ hổng có liên quan đến phần mềm này [[_nguồn_](https://www.cvedetails.com/vulnerability-list/vendor_id-12094/Bitcoin.html)]. Trong số đó, 14 lỗ hổng có khả năng bị khai thác để biến thành một cuộc tấn công DoS lên mạng Bitcoin. Rất may là những lỗ hổng này chỉ được công bố sau khi đa số các nút mạng đã cập nhật bản vá.\n",
    "\n",
    "Trong tương lai, nếu mạng Bitcoin phải hứng chịu một cuộc tấn công DoS trên diện rộng thì nhiều khả năng cuộc tấn công này khởi nguồn từ một lỗ hổng trên Bitcoin Core. Dĩ nhiên, trong những tình huống như vậy, cộng đồng mạng (gồm những ai quan tâm đến sự tồn tại và phát triển của Bitcoin) sẽ có những phản ứng kịp thời để đưa Bitcoin trở lại đúng quỹ đạo của nó."
   ]
  }
 ],
 "metadata": {
  "kernelspec": {
   "display_name": "Python 2",
   "language": "python",
   "name": "python2"
  },
  "language_info": {
   "codemirror_mode": {
    "name": "ipython",
    "version": 2
   },
   "file_extension": ".py",
   "mimetype": "text/x-python",
   "name": "python",
   "nbconvert_exporter": "python",
   "pygments_lexer": "ipython2",
   "version": "2.7.16"
  }
 },
 "nbformat": 4,
 "nbformat_minor": 2
}
