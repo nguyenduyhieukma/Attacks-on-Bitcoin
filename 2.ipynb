{
 "cells": [
  {
   "cell_type": "markdown",
   "metadata": {},
   "source": [
    "# 2 Tấn công Sybil"
   ]
  },
  {
   "cell_type": "markdown",
   "metadata": {},
   "source": [
    "## 2.1 Khái niệm\n",
    "\n",
    "Tấn công Sybil (đặt theo tên của một phụ nữ có thật bị chứng rối loạn đa nhân cách trong một [cuốn sách](https://en.wikipedia.org/wiki/Sybil_(Schreiber_book)) nổi tiếng cùng tên) là kiểu tấn công trong đó, kẻ tấn công dưới nhiều danh tính khác nhau thực hiện cùng một hành vi để khiến người ta lầm tưởng rằng, có nhiều người đang cùng thực hiện hành vi đó.\n",
    "\n",
    "Với một chuỗi khối công cộng như Bitcoin, không khó để một thành viên vận hành, không chỉ một mà rất nhiều nút mạng cùng lúc. Đó chính là tấn công Sybil lên Bitcoin nói riêng và chuỗi khối nói chung. Về phương diện kĩ thuật, Bitcoin không thể nào ngăn chặn tấn công Sybil diễn ra. Cách tốt nhất nó có thể làm là \"sống chung với lũ\": vẫn hoạt động tốt bất kể tấn công Sybil có xảy ra hay không.\n",
    "\n",
    "Quan sát [_Hình 5_](#hinh_5), ta có thể thấy, mỗi khi mà số nút mạng (có lắng nghe kết nối) tăng một cách đột biến (2/2016, 2/2017, 10/2017, ...) thì đó đều là biểu hiện của tấn công Sybil đang được triển khai. Hiện tại, số lượng nút mạng đang lắng nghe kết nối rơi vào khoảng 9700 . Trong số này, bao nhiêu là nút Sybil (nút ảo do kẻ tấn công tạo ra), bao nhiêu là nút thật thì không ai có thể trả lời được.\n",
    "\n",
    "|<a id='hinh_5'></a>![](resource/node-count-history.png)|\n",
    "|:--|\n",
    "|_Hình 5: Biểu đồ số nút mạng Bitcoin (có lắng nghe kết nối) từ tháng 8/2015 đến tháng 6/2019 [[nguồn](https://coin.dance/nodes)]_|"
   ]
  },
  {
   "cell_type": "markdown",
   "metadata": {},
   "source": [
    "## 2.2 Mục đích tấn công"
   ]
  },
  {
   "cell_type": "markdown",
   "metadata": {},
   "source": [
    "### 2.2.1 Phá vỡ tính nhất quán của hệ thống\n",
    "\n",
    "Kẻ tấn công Sybil có thể phá vỡ tính nhất quán của hệ thống thông qua việc phân mảnh mạng. Nếu mạng ngang hàng rơi vào trạng thái như trong hai hình [_6_](#hinh_6) và [_7_](#hinh_7) (hình thành những mạng con sau khi loại bỏ các nút Sybil cùng liên kết tới chúng), thì kẻ tấn công xem như đã phân mảnh mạng thành công và có toàn quyền quyết định lên dòng dữ liệu trung chuyển giữa những mạng con này.\n",
    "\n",
    "|<img id='hinh_6' src='resource/network-segmentation-1.png'>|\n",
    "|:--|\n",
    "|_Hình 6: Ví dụ về phân mảnh mạng - hình trạng mạng ban đầu. Màu xanh lá cây biểu diễn các nút bình thường, màu đỏ biểu diễn các nút Sybil._|\n",
    "|<img id='hinh_7' src='resource/network-segmentation-2.png'>|\n",
    "|_Hình 7: Ví dụ về phân mảnh mạng - hình trạng mạng sau khi loại bỏ các nút Sybil cùng liên kết tới chúng_|\n",
    "\n",
    "Tiếp theo, kẻ tấn công có thể:\n",
    "-   Gây bất lợi cho một thành viên nào đó bằng cách tăng độ trễ truyền dẫn từ mạng con của thành viên này sang những mạng con khác.\n",
    "-   Hủy trung chuyển dữ liệu giữa các mạng con, tạo nhiều nhánh trên cây khối để tiêu một đồng tiền nhiều lần trên từng nhánh được tạo ra."
   ]
  },
  {
   "cell_type": "markdown",
   "metadata": {},
   "source": [
    "### 2.2.2 Phá vỡ sự riêng tư của người dùng\n",
    "\n",
    "Sự riêng tư mà Bitcoin cung cấp cho người dùng bắt nguồn từ việc: khi một giao dịch được quảng bá trên mạng, không ai biết nó bắt nguồn phát đi từ nút nào, ngoại trừ nút phát mà thôi. Tuy nhiên, điều này không còn đúng với kẻ tấn công Sybil. Một khi nắm giữ nhiều nút mạng trong tay, kẻ tấn công sẽ có \"cảm quan\" tốt hơn về những dòng dữ liệu được lưu chuyển trên mạng, thông qua phân tích thông tin về thời điểm nhận được dữ liệu tại mỗi nút Sybil.\n",
    "\n",
    "Chẳng hạn, giả sử một kẻ tấn công Sybil sở hữu 25% số nút đang lắng nghe kết nối trong mạng ngang hàng, và một nút chạy ứng dụng ví điện tử (nút này không thực hiện đồng bộ cây khối, tham gia mạng chỉ để theo dõi những đồng tiền mà người dùng ứng dụng đang sở hữu và thực hiện giao dịch mỗi khi được người dùng này yêu cầu) có 8 kết nối (con số mặc định) đến các nút khác thì xác suất để nút này kết nối với ít nhất một nút Sybil là: $1 - (1 - 0.25)^8 \\approx 90\\%$. Như vậy, khi một giao dịch được phát đi, trong số tất cả các nút Sybil, nút nào nhận được giao dịch sớm nhất thì có đến 90% khả năng là nút Sybil đó nhận giao dịch từ chính nguồn phát giao dịch! Dĩ nhiên, con số 90% sẽ còn cải thiện nếu kẻ tấn công Sybil sở hữu nhiều nút mạng hơn ([_Hình 8_](#hinh_8)), hay áp dụng các kĩ thuật phân tích phức tạp hơn.\n",
    "\n",
    "|<img id='hinh_8' src='resource/connect-to-Sybil-node-probability.png'>|\n",
    "|:--|\n",
    "|_Hình 8: Xác suất môt nút mạng (có 8 kết nối) kết nối đến ít nhất một nút Sybil_|"
   ]
  },
  {
   "cell_type": "markdown",
   "metadata": {},
   "source": [
    "## 2.3 Biện pháp khắc phục\n",
    "\n",
    "Hiện tại, để khắc phục tấn công Sybil, Bitcoin áp dụng các biện pháp sau:\n",
    "-   Vấn đề phân mảnh mạng:\n",
    "    +   Khuyến khích tái sử dụng kết nối cũ. Nghĩa là, khi một nút rời khỏi mạng ngang hàng rồi quay trở lại sau một thời gian, nó nên ưu tiên kết nối đến những hàng xóm cũ. Nguyên nhân là bởi, tấn công Sybil chỉ có thể cô lập những nút gia nhập sau khi tấn công được triển khai; mạng ngang hàng trước đó vẫn là một thể thống nhất.\n",
    "    +   Khuyến khích mỗi nút mạng tại một thời điểm chỉ kết nối đến một địa chỉ IP trên mỗi phân mạng /16 (a.b.0.0). Vì những nút mạng thuộc cùng một phân mạng /16 nhiều khả năng được kiểm soát bởi cùng một thành viên. Giờ đây, việc triển khai tấn công Sybil sẽ trở nên khó khăn hơn rất nhiều bởi kẻ tấn công cần sở hữu nhiều nút mạng nằm trên nhiều vùng địa lý khác nhau, cũng như sử dụng Internet từ nhiều nhà cung cấp dịch vụ khác nhau.\n",
    "    +   Khuyến khích những thành viên thường xuyên công bố khối (sở hữu lượng lớn sức mạnh trọng hệ thống) tham gia vào một mạng đặc biệt, được thiết kế với mục đích ban đầu là tối thiểu độ trễ truyền dẫn khối giữa các nút trong mạng. Như vậy, vấn đề phân nhánh cây khối do phân mảnh mạng từ tấn công Sybil xem như được giải quyết.\n",
    "-   Vấn đề về sự riêng tư của người dùng:\n",
    "    +   Bitcoin hỗ trợ Tor, một giao thức dùng ẩn danh người gửi, phù hợp cho những ai cần tính riêng tư cao (không muốn người khác biết mình đã thực hiện một giao dịch nào đó)."
   ]
  }
 ],
 "metadata": {
  "kernelspec": {
   "display_name": "SageMath 8.3",
   "language": "python",
   "name": "sagemath"
  },
  "language_info": {
   "codemirror_mode": {
    "name": "ipython",
    "version": 2
   },
   "file_extension": ".py",
   "mimetype": "text/x-python",
   "name": "python",
   "nbconvert_exporter": "python",
   "pygments_lexer": "ipython2",
   "version": "2.7.16"
  }
 },
 "nbformat": 4,
 "nbformat_minor": 2
}
